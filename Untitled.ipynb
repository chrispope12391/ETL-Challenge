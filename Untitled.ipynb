{
 "cells": [
  {
   "cell_type": "code",
   "execution_count": null,
   "metadata": {},
   "outputs": [],
   "source": [
    "import pandas as pd\n",
    "from sqlalchemy import create_engine\n",
    "import datetime as dt"
   ]
  },
  {
   "cell_type": "code",
   "execution_count": null,
   "metadata": {},
   "outputs": [],
   "source": [
    "import warnings\n",
    "warnings.filterwarnings(\"ignore\")"
   ]
  },
  {
   "cell_type": "code",
   "execution_count": null,
   "metadata": {},
   "outputs": [],
   "source": [
    "#Pulled Vaccine Data\n",
    "\n",
    "vaccine_file = \"Resources/country_vaccine.csv\"\n",
    "vaccine_df = pd.read_csv(vaccine_file)\n",
    "vaccine_df"
   ]
  },
  {
   "cell_type": "code",
   "execution_count": null,
   "metadata": {},
   "outputs": [],
   "source": [
    "#Created Vaccine Dataframe\n",
    "\n",
    "# filtered the dataframe by betweens between 01-01-2021 through 03-01-2021\n",
    "clean_vaccine = vaccine_df.loc[(vaccine_df['date'] >= '2021-01-01') & (vaccine_df['date'] < '2021-03-21')]\n",
    "\n",
    "# replaced columns with nan with 0\n",
    "clean_vaccine['total_vaccinations'] = clean_vaccine['total_vaccinations'].fillna(0)\n",
    "clean_vaccine['people_vaccinated'] = clean_vaccine['people_vaccinated'].fillna(0)\n",
    "clean_vaccine['daily_vaccinations'] = clean_vaccine['daily_vaccinations'].fillna(0)\n",
    "\n",
    "#sorted the dataframe by the date column in ascending order\n",
    "clean_vaccine = clean_vaccine.sort_values('date')\n",
    "\n",
    "clean_vaccine.head()"
   ]
  },
  {
   "cell_type": "code",
   "execution_count": null,
   "metadata": {},
   "outputs": [],
   "source": [
    "#converted the date column to datetime\n",
    "\n",
    "clean_vaccine['date'] = pd.to_datetime(clean_vaccine['date'])\n",
    "clean_vaccine"
   ]
  },
  {
   "cell_type": "code",
   "execution_count": null,
   "metadata": {},
   "outputs": [],
   "source": [
    "#created a primary key column \"date_country\" using the country name plus the date\n",
    "\n",
    "clean_vaccine['date_country'] = (clean_vaccine['country'])+ (clean_vaccine['date'].astype(str))\n",
    "\n",
    "# reset the index and dropped the index column\n",
    "reset_vaccine = clean_vaccine.reset_index()\n",
    "reset_vaccine = reset_vaccine.drop('index', axis=1)\n",
    "reset_vaccine.head()"
   ]
  },
  {
   "cell_type": "code",
   "execution_count": null,
   "metadata": {},
   "outputs": [],
   "source": [
    "#pulled the daily_corona csv\n",
    "\n",
    "corona_file = \"Resources/daily_corona.csv\"\n",
    "corona_df = pd.read_csv(corona_file)\n",
    "corona_df.head()"
   ]
  },
  {
   "cell_type": "code",
   "execution_count": null,
   "metadata": {},
   "outputs": [],
   "source": [
    "# filtered the dataframe by betweens between 01-01-2021 through 03-01-2021\n",
    "\n",
    "clean_corona = corona_df.loc[(corona_df['date'] >= '2021-1-01') & (corona_df['date'] < '2021-3-21')]\n",
    "\n",
    "# replaced columns with nan with 0\n",
    "clean_corona['daily_new_cases'] = clean_corona['daily_new_cases'].fillna(0)\n",
    "clean_corona['daily_new_deaths'] = clean_corona['daily_new_deaths'].fillna(0)\n",
    "\n",
    "#sorted the dataframe by the date column in ascending order\n",
    "clean_corona = clean_corona.sort_values('date')\n",
    "clean_corona.head()"
   ]
  },
  {
   "cell_type": "code",
   "execution_count": null,
   "metadata": {},
   "outputs": [],
   "source": [
    "#converted the date column to datetime\n",
    "\n",
    "clean_corona['date'] = pd.to_datetime(clean_corona['date'])\n",
    "clean_corona"
   ]
  },
  {
   "cell_type": "code",
   "execution_count": null,
   "metadata": {},
   "outputs": [],
   "source": [
    "# reset the index and dropped the index column\n",
    "\n",
    "reset_corona = clean_corona.reset_index()\n",
    "reset_corona = reset_corona.drop('index', axis=1)\n",
    "\n",
    "#created a primary key column \"date_country\" using the country name plus the date\n",
    "reset_corona['date_country'] = reset_corona['country']+ (reset_corona['date'].astype(str))\n",
    "reset_corona.head()"
   ]
  },
  {
   "cell_type": "code",
   "execution_count": null,
   "metadata": {},
   "outputs": [],
   "source": [
    "# Connect to local Database\n",
    "\n",
    "rds_connection_string = \"postgres:anthony91@localhost:5432/hw_11\"\n",
    "engine = create_engine(f'postgresql://{rds_connection_string}')"
   ]
  },
  {
   "cell_type": "code",
   "execution_count": null,
   "metadata": {},
   "outputs": [],
   "source": [
    "# pulled the table names from our database\n",
    "\n",
    "engine.table_names()"
   ]
  },
  {
   "cell_type": "code",
   "execution_count": null,
   "metadata": {},
   "outputs": [],
   "source": [
    "#pushed the reset_vaccine dataframe to our table: COUNTRY_VACCINE\n",
    "\n",
    "reset_vaccine.to_sql(name='country_vaccine', con=engine, if_exists='append', index=False)"
   ]
  },
  {
   "cell_type": "code",
   "execution_count": null,
   "metadata": {},
   "outputs": [],
   "source": [
    "#pushed the reset_corona dataframe to our table:daily_corona\n",
    "\n",
    "reset_corona.to_sql(name='daily_corona', con=engine, if_exists='append', index=False)"
   ]
  },
  {
   "cell_type": "code",
   "execution_count": null,
   "metadata": {},
   "outputs": [],
   "source": [
    "#read the table: COUNTRY_VACCINE from our database\n",
    "\n",
    "pd.read_sql_query('select * from country_vaccine', con=engine)"
   ]
  },
  {
   "cell_type": "code",
   "execution_count": null,
   "metadata": {},
   "outputs": [],
   "source": [
    "#read the table: daily_corona from our database\n",
    "\n",
    "pd.read_sql_query('select * from daily_corona', con=engine)"
   ]
  }
 ],
 "metadata": {
  "kernelspec": {
   "display_name": "Python 3",
   "language": "python",
   "name": "python3"
  },
  "language_info": {
   "codemirror_mode": {
    "name": "ipython",
    "version": 3
   },
   "file_extension": ".py",
   "mimetype": "text/x-python",
   "name": "python",
   "nbconvert_exporter": "python",
   "pygments_lexer": "ipython3",
   "version": "3.6.10"
  }
 },
 "nbformat": 4,
 "nbformat_minor": 4
}
