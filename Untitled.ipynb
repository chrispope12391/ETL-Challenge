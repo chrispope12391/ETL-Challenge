{
 "cells": [
  {
   "cell_type": "code",
   "execution_count": null,
   "metadata": {},
   "outputs": [],
   "source": [
    "import pandas as pd\n",
    "from sqlalchemy import create_engine\n",
    "import datetime as dt"
   ]
  },
  {
   "cell_type": "code",
   "execution_count": null,
   "metadata": {},
   "outputs": [],
   "source": [
    "import warnings\n",
    "warnings.filterwarnings(\"ignore\")"
   ]
  },
  {
   "cell_type": "code",
   "execution_count": null,
   "metadata": {},
   "outputs": [],
   "source": [
    "vaccine_file = \"Resources/country_vaccine.csv\"\n",
    "vaccine_df = pd.read_csv(vaccine_file)\n",
    "vaccine_df"
   ]
  },
  {
   "cell_type": "code",
   "execution_count": null,
   "metadata": {},
   "outputs": [],
   "source": [
    "clean_vaccine = vaccine_df.loc[(vaccine_df['date'] >= '2021-01-01') & (vaccine_df['date'] < '2021-03-21')]\n",
    "clean_vaccine['total_vaccinations'] = clean_vaccine['total_vaccinations'].fillna(0)\n",
    "clean_vaccine['people_vaccinated'] = clean_vaccine['people_vaccinated'].fillna(0)\n",
    "clean_vaccine = clean_vaccine.sort_values('date')\n",
    "clean_vaccine"
   ]
  },
  {
   "cell_type": "code",
   "execution_count": null,
   "metadata": {},
   "outputs": [],
   "source": [
    "clean_vaccine['date'] = pd.to_datetime(clean_vaccine['date'])"
   ]
  },
  {
   "cell_type": "code",
   "execution_count": null,
   "metadata": {},
   "outputs": [],
   "source": [
    "reset_vaccine = clean_vaccine"
   ]
  },
  {
   "cell_type": "code",
   "execution_count": null,
   "metadata": {},
   "outputs": [],
   "source": [
    "corona_file = \"Resources/daily_corona.csv\"\n",
    "corona_df = pd.read_csv(corona_file)\n",
    "corona_df.head()"
   ]
  },
  {
   "cell_type": "code",
   "execution_count": null,
   "metadata": {},
   "outputs": [],
   "source": [
    "clean_corona = corona_df.loc[(corona_df['date'] >= '2021-1-01') & (corona_df['date'] < '2021-3-21')]\n",
    "clean_corona['daily_new_cases'] = clean_corona['daily_new_cases'].fillna(0)\n",
    "clean_corona = clean_corona.sort_values('date')\n",
    "clean_corona.head()"
   ]
  },
  {
   "cell_type": "code",
   "execution_count": null,
   "metadata": {},
   "outputs": [],
   "source": [
    "clean_corona['date'] = pd.to_datetime(clean_corona['date'])\n",
    "clean_corona"
   ]
  },
  {
   "cell_type": "code",
   "execution_count": null,
   "metadata": {},
   "outputs": [],
   "source": [
    "reset_corona = clean_corona.reset_index()\n",
    "reset_corona"
   ]
  }
 ],
 "metadata": {
  "kernelspec": {
   "display_name": "Python 3",
   "language": "python",
   "name": "python3"
  },
  "language_info": {
   "codemirror_mode": {
    "name": "ipython",
    "version": 3
   },
   "file_extension": ".py",
   "mimetype": "text/x-python",
   "name": "python",
   "nbconvert_exporter": "python",
   "pygments_lexer": "ipython3",
   "version": "3.6.10"
  }
 },
 "nbformat": 4,
 "nbformat_minor": 4
}
